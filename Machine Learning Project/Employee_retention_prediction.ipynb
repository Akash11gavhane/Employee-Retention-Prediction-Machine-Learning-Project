{
 "cells": [
  {
   "cell_type": "markdown",
   "metadata": {},
   "source": [
    "# ABOUT DATASET:\n",
    "The dataset has the columns correspond to various features of the employee's job and performance.\n",
    "\n",
    "# OBJECTIVE:\n",
    "__To create a model to predict Whether the Employee will leave the Company or not__\n",
    "\n",
    "__Retention Analysis: Create a predictive model to determine the factors that contribute to employee turnover and identify potential retention strategies__\n",
    "\n",
    "__Employee Engagement Analysis: Use machine learning techniques to analyze employee data and identify patterns that indicate disengagement or dissatisfaction, leading to potential attrition__\n",
    "\n",
    "\n",
    "__Human Resources Decision Support: Build a model to support HR decision-making by predicting the likelihood of an employee leaving the company based on various factor__\n",
    "\n",
    "# INPUT FEATURES:-\n",
    "1. __satisfaction_level__\t\t\n",
    "2. __number_project__\t\n",
    "3. __average_montly_hours__\t\n",
    "4. __time_spend_company__\t\t\n",
    "5. __promotion_last_5years__\t\n",
    "6. __Department__\n",
    "6. __salary__\n",
    "\n",
    "# OUTPUT FEATURES:-\n",
    " 1. __left__"
   ]
  },
  {
   "cell_type": "markdown",
   "metadata": {},
   "source": [
    "# Importing Libraries"
   ]
  },
  {
   "cell_type": "code",
   "execution_count": 1,
   "metadata": {},
   "outputs": [],
   "source": [
    "import numpy as np\n",
    "import pandas as pd\n",
    "import matplotlib.pyplot as plt\n",
    "%matplotlib inline\n",
    "import seaborn as sns\n",
    "import warnings\n",
    "warnings.filterwarnings('ignore')\n",
    "from sklearn.model_selection import train_test_split\n",
    "from sklearn.ensemble import RandomForestClassifier, GradientBoostingClassifier\n",
    "from sklearn.metrics import accuracy_score\n",
    "from sklearn.model_selection import KFold,cross_val_score\n",
    "from sklearn.svm import SVC\n",
    "from sklearn.linear_model import LogisticRegression\n",
    "from sklearn.tree import DecisionTreeClassifier\n",
    "from sklearn.ensemble import AdaBoostClassifier\n",
    "from sklearn.ensemble import RandomForestClassifier, GradientBoostingClassifier\n",
    "from sklearn.metrics import accuracy_score, confusion_matrix,precision_score,recall_score,f1_score\n",
    "import warnings\n",
    "warnings.filterwarnings('ignore')\n",
    "from sklearn.model_selection import GridSearchCV"
   ]
  },
  {
   "cell_type": "markdown",
   "metadata": {},
   "source": [
    "# Getting Data"
   ]
  },
  {
   "cell_type": "code",
   "execution_count": 3,
   "metadata": {},
   "outputs": [],
   "source": [
    "raw_data = pd.read_csv(\"EmployeeSurveyData.csv\")"
   ]
  },
  {
   "cell_type": "code",
   "execution_count": 4,
   "metadata": {},
   "outputs": [
    {
     "data": {
      "text/html": [
       "<div>\n",
       "<style scoped>\n",
       "    .dataframe tbody tr th:only-of-type {\n",
       "        vertical-align: middle;\n",
       "    }\n",
       "\n",
       "    .dataframe tbody tr th {\n",
       "        vertical-align: top;\n",
       "    }\n",
       "\n",
       "    .dataframe thead th {\n",
       "        text-align: right;\n",
       "    }\n",
       "</style>\n",
       "<table border=\"1\" class=\"dataframe\">\n",
       "  <thead>\n",
       "    <tr style=\"text-align: right;\">\n",
       "      <th></th>\n",
       "      <th>TimeStamp</th>\n",
       "      <th>Name</th>\n",
       "      <th>IT Company</th>\n",
       "      <th>Satisfaction Level</th>\n",
       "      <th>Number Of Project</th>\n",
       "      <th>Average Monthly Hours</th>\n",
       "      <th>Time Spend Company</th>\n",
       "      <th>Work accident</th>\n",
       "      <th>Left</th>\n",
       "      <th>Promotion Last Five years</th>\n",
       "      <th>Department</th>\n",
       "      <th>Salary</th>\n",
       "    </tr>\n",
       "  </thead>\n",
       "  <tbody>\n",
       "    <tr>\n",
       "      <th>0</th>\n",
       "      <td>8/26/2023</td>\n",
       "      <td>Aarav Patel</td>\n",
       "      <td>Infosys</td>\n",
       "      <td>Low</td>\n",
       "      <td>2</td>\n",
       "      <td>157</td>\n",
       "      <td>3</td>\n",
       "      <td>No</td>\n",
       "      <td>Yes</td>\n",
       "      <td>No</td>\n",
       "      <td>sales</td>\n",
       "      <td>low</td>\n",
       "    </tr>\n",
       "    <tr>\n",
       "      <th>1</th>\n",
       "      <td>8/26/2023</td>\n",
       "      <td>Aisha Sharma</td>\n",
       "      <td>HCL</td>\n",
       "      <td>Very High</td>\n",
       "      <td>5</td>\n",
       "      <td>262</td>\n",
       "      <td>6</td>\n",
       "      <td>No</td>\n",
       "      <td>Yes</td>\n",
       "      <td>No</td>\n",
       "      <td>sales</td>\n",
       "      <td>medium</td>\n",
       "    </tr>\n",
       "    <tr>\n",
       "      <th>2</th>\n",
       "      <td>8/26/2023</td>\n",
       "      <td>Arjun Gupta</td>\n",
       "      <td>Tech Mahindra</td>\n",
       "      <td>Very Low</td>\n",
       "      <td>7</td>\n",
       "      <td>272</td>\n",
       "      <td>4</td>\n",
       "      <td>No</td>\n",
       "      <td>Yes</td>\n",
       "      <td>No</td>\n",
       "      <td>sales</td>\n",
       "      <td>medium</td>\n",
       "    </tr>\n",
       "    <tr>\n",
       "      <th>3</th>\n",
       "      <td>8/26/2023</td>\n",
       "      <td>Diya Singh</td>\n",
       "      <td>Cognizant</td>\n",
       "      <td>High</td>\n",
       "      <td>5</td>\n",
       "      <td>223</td>\n",
       "      <td>5</td>\n",
       "      <td>No</td>\n",
       "      <td>Yes</td>\n",
       "      <td>No</td>\n",
       "      <td>sales</td>\n",
       "      <td>low</td>\n",
       "    </tr>\n",
       "    <tr>\n",
       "      <th>4</th>\n",
       "      <td>8/26/2023</td>\n",
       "      <td>Ishaan Verma</td>\n",
       "      <td>Wipro</td>\n",
       "      <td>Low</td>\n",
       "      <td>2</td>\n",
       "      <td>159</td>\n",
       "      <td>3</td>\n",
       "      <td>No</td>\n",
       "      <td>Yes</td>\n",
       "      <td>No</td>\n",
       "      <td>sales</td>\n",
       "      <td>low</td>\n",
       "    </tr>\n",
       "    <tr>\n",
       "      <th>...</th>\n",
       "      <td>...</td>\n",
       "      <td>...</td>\n",
       "      <td>...</td>\n",
       "      <td>...</td>\n",
       "      <td>...</td>\n",
       "      <td>...</td>\n",
       "      <td>...</td>\n",
       "      <td>...</td>\n",
       "      <td>...</td>\n",
       "      <td>...</td>\n",
       "      <td>...</td>\n",
       "      <td>...</td>\n",
       "    </tr>\n",
       "    <tr>\n",
       "      <th>522</th>\n",
       "      <td>8/28/2023</td>\n",
       "      <td>Ishika Chauhan</td>\n",
       "      <td>Accenture</td>\n",
       "      <td>High</td>\n",
       "      <td>3</td>\n",
       "      <td>231</td>\n",
       "      <td>3</td>\n",
       "      <td>No</td>\n",
       "      <td>No</td>\n",
       "      <td>No</td>\n",
       "      <td>technical</td>\n",
       "      <td>low</td>\n",
       "    </tr>\n",
       "    <tr>\n",
       "      <th>523</th>\n",
       "      <td>8/28/2023</td>\n",
       "      <td>Jia Patel</td>\n",
       "      <td>HCL</td>\n",
       "      <td>Very High</td>\n",
       "      <td>3</td>\n",
       "      <td>259</td>\n",
       "      <td>4</td>\n",
       "      <td>No</td>\n",
       "      <td>No</td>\n",
       "      <td>No</td>\n",
       "      <td>technical</td>\n",
       "      <td>low</td>\n",
       "    </tr>\n",
       "    <tr>\n",
       "      <th>524</th>\n",
       "      <td>8/28/2023</td>\n",
       "      <td>Kashvi Kapoor</td>\n",
       "      <td>Tech Mahindra</td>\n",
       "      <td>High</td>\n",
       "      <td>3</td>\n",
       "      <td>238</td>\n",
       "      <td>2</td>\n",
       "      <td>No</td>\n",
       "      <td>No</td>\n",
       "      <td>No</td>\n",
       "      <td>technical</td>\n",
       "      <td>low</td>\n",
       "    </tr>\n",
       "    <tr>\n",
       "      <th>525</th>\n",
       "      <td>8/28/2023</td>\n",
       "      <td>Krishiv Mehta</td>\n",
       "      <td>Infosys</td>\n",
       "      <td>High</td>\n",
       "      <td>3</td>\n",
       "      <td>210</td>\n",
       "      <td>3</td>\n",
       "      <td>No</td>\n",
       "      <td>No</td>\n",
       "      <td>No</td>\n",
       "      <td>technical</td>\n",
       "      <td>low</td>\n",
       "    </tr>\n",
       "    <tr>\n",
       "      <th>526</th>\n",
       "      <td>8/28/2023</td>\n",
       "      <td>Lavanya Singh</td>\n",
       "      <td>Infosys</td>\n",
       "      <td>Medium</td>\n",
       "      <td>3</td>\n",
       "      <td>120</td>\n",
       "      <td>6</td>\n",
       "      <td>No</td>\n",
       "      <td>No</td>\n",
       "      <td>No</td>\n",
       "      <td>technical</td>\n",
       "      <td>low</td>\n",
       "    </tr>\n",
       "  </tbody>\n",
       "</table>\n",
       "<p>527 rows × 12 columns</p>\n",
       "</div>"
      ],
      "text/plain": [
       "     TimeStamp            Name     IT Company Satisfaction Level  \\\n",
       "0    8/26/2023     Aarav Patel        Infosys                Low   \n",
       "1    8/26/2023    Aisha Sharma            HCL          Very High   \n",
       "2    8/26/2023     Arjun Gupta  Tech Mahindra           Very Low   \n",
       "3    8/26/2023      Diya Singh      Cognizant               High   \n",
       "4    8/26/2023    Ishaan Verma          Wipro                Low   \n",
       "..         ...             ...            ...                ...   \n",
       "522  8/28/2023  Ishika Chauhan      Accenture               High   \n",
       "523  8/28/2023       Jia Patel            HCL          Very High   \n",
       "524  8/28/2023   Kashvi Kapoor  Tech Mahindra               High   \n",
       "525  8/28/2023   Krishiv Mehta        Infosys               High   \n",
       "526  8/28/2023   Lavanya Singh        Infosys             Medium   \n",
       "\n",
       "     Number Of Project  Average Monthly Hours  Time Spend Company   \\\n",
       "0                    2                    157                    3   \n",
       "1                    5                    262                    6   \n",
       "2                    7                    272                    4   \n",
       "3                    5                    223                    5   \n",
       "4                    2                    159                    3   \n",
       "..                 ...                    ...                  ...   \n",
       "522                  3                    231                    3   \n",
       "523                  3                    259                    4   \n",
       "524                  3                    238                    2   \n",
       "525                  3                    210                    3   \n",
       "526                  3                    120                    6   \n",
       "\n",
       "    Work accident  Left  Promotion Last Five years  Department  Salary  \n",
       "0               No   Yes                         No      sales     low  \n",
       "1               No   Yes                         No      sales  medium  \n",
       "2               No   Yes                         No      sales  medium  \n",
       "3               No   Yes                         No      sales     low  \n",
       "4               No   Yes                         No      sales     low  \n",
       "..             ...   ...                        ...        ...     ...  \n",
       "522             No    No                         No  technical     low  \n",
       "523             No    No                         No  technical     low  \n",
       "524             No    No                         No  technical     low  \n",
       "525             No    No                         No  technical     low  \n",
       "526             No    No                         No  technical     low  \n",
       "\n",
       "[527 rows x 12 columns]"
      ]
     },
     "execution_count": 4,
     "metadata": {},
     "output_type": "execute_result"
    }
   ],
   "source": [
    "raw_data"
   ]
  },
  {
   "cell_type": "markdown",
   "metadata": {},
   "source": [
    "#### Removing unnecessary columns"
   ]
  },
  {
   "cell_type": "code",
   "execution_count": 5,
   "metadata": {},
   "outputs": [],
   "source": [
    "# timestamp and name columns \n",
    "\n",
    "raw_data.drop(['TimeStamp' , 'Name'],axis = 1 , inplace=True)"
   ]
  },
  {
   "cell_type": "code",
   "execution_count": 6,
   "metadata": {},
   "outputs": [
    {
     "data": {
      "text/html": [
       "<div>\n",
       "<style scoped>\n",
       "    .dataframe tbody tr th:only-of-type {\n",
       "        vertical-align: middle;\n",
       "    }\n",
       "\n",
       "    .dataframe tbody tr th {\n",
       "        vertical-align: top;\n",
       "    }\n",
       "\n",
       "    .dataframe thead th {\n",
       "        text-align: right;\n",
       "    }\n",
       "</style>\n",
       "<table border=\"1\" class=\"dataframe\">\n",
       "  <thead>\n",
       "    <tr style=\"text-align: right;\">\n",
       "      <th></th>\n",
       "      <th>IT Company</th>\n",
       "      <th>Satisfaction Level</th>\n",
       "      <th>Number Of Project</th>\n",
       "      <th>Average Monthly Hours</th>\n",
       "      <th>Time Spend Company</th>\n",
       "      <th>Work accident</th>\n",
       "      <th>Left</th>\n",
       "      <th>Promotion Last Five years</th>\n",
       "      <th>Department</th>\n",
       "      <th>Salary</th>\n",
       "    </tr>\n",
       "  </thead>\n",
       "  <tbody>\n",
       "    <tr>\n",
       "      <th>0</th>\n",
       "      <td>Infosys</td>\n",
       "      <td>Low</td>\n",
       "      <td>2</td>\n",
       "      <td>157</td>\n",
       "      <td>3</td>\n",
       "      <td>No</td>\n",
       "      <td>Yes</td>\n",
       "      <td>No</td>\n",
       "      <td>sales</td>\n",
       "      <td>low</td>\n",
       "    </tr>\n",
       "    <tr>\n",
       "      <th>1</th>\n",
       "      <td>HCL</td>\n",
       "      <td>Very High</td>\n",
       "      <td>5</td>\n",
       "      <td>262</td>\n",
       "      <td>6</td>\n",
       "      <td>No</td>\n",
       "      <td>Yes</td>\n",
       "      <td>No</td>\n",
       "      <td>sales</td>\n",
       "      <td>medium</td>\n",
       "    </tr>\n",
       "    <tr>\n",
       "      <th>2</th>\n",
       "      <td>Tech Mahindra</td>\n",
       "      <td>Very Low</td>\n",
       "      <td>7</td>\n",
       "      <td>272</td>\n",
       "      <td>4</td>\n",
       "      <td>No</td>\n",
       "      <td>Yes</td>\n",
       "      <td>No</td>\n",
       "      <td>sales</td>\n",
       "      <td>medium</td>\n",
       "    </tr>\n",
       "    <tr>\n",
       "      <th>3</th>\n",
       "      <td>Cognizant</td>\n",
       "      <td>High</td>\n",
       "      <td>5</td>\n",
       "      <td>223</td>\n",
       "      <td>5</td>\n",
       "      <td>No</td>\n",
       "      <td>Yes</td>\n",
       "      <td>No</td>\n",
       "      <td>sales</td>\n",
       "      <td>low</td>\n",
       "    </tr>\n",
       "    <tr>\n",
       "      <th>4</th>\n",
       "      <td>Wipro</td>\n",
       "      <td>Low</td>\n",
       "      <td>2</td>\n",
       "      <td>159</td>\n",
       "      <td>3</td>\n",
       "      <td>No</td>\n",
       "      <td>Yes</td>\n",
       "      <td>No</td>\n",
       "      <td>sales</td>\n",
       "      <td>low</td>\n",
       "    </tr>\n",
       "    <tr>\n",
       "      <th>...</th>\n",
       "      <td>...</td>\n",
       "      <td>...</td>\n",
       "      <td>...</td>\n",
       "      <td>...</td>\n",
       "      <td>...</td>\n",
       "      <td>...</td>\n",
       "      <td>...</td>\n",
       "      <td>...</td>\n",
       "      <td>...</td>\n",
       "      <td>...</td>\n",
       "    </tr>\n",
       "    <tr>\n",
       "      <th>522</th>\n",
       "      <td>Accenture</td>\n",
       "      <td>High</td>\n",
       "      <td>3</td>\n",
       "      <td>231</td>\n",
       "      <td>3</td>\n",
       "      <td>No</td>\n",
       "      <td>No</td>\n",
       "      <td>No</td>\n",
       "      <td>technical</td>\n",
       "      <td>low</td>\n",
       "    </tr>\n",
       "    <tr>\n",
       "      <th>523</th>\n",
       "      <td>HCL</td>\n",
       "      <td>Very High</td>\n",
       "      <td>3</td>\n",
       "      <td>259</td>\n",
       "      <td>4</td>\n",
       "      <td>No</td>\n",
       "      <td>No</td>\n",
       "      <td>No</td>\n",
       "      <td>technical</td>\n",
       "      <td>low</td>\n",
       "    </tr>\n",
       "    <tr>\n",
       "      <th>524</th>\n",
       "      <td>Tech Mahindra</td>\n",
       "      <td>High</td>\n",
       "      <td>3</td>\n",
       "      <td>238</td>\n",
       "      <td>2</td>\n",
       "      <td>No</td>\n",
       "      <td>No</td>\n",
       "      <td>No</td>\n",
       "      <td>technical</td>\n",
       "      <td>low</td>\n",
       "    </tr>\n",
       "    <tr>\n",
       "      <th>525</th>\n",
       "      <td>Infosys</td>\n",
       "      <td>High</td>\n",
       "      <td>3</td>\n",
       "      <td>210</td>\n",
       "      <td>3</td>\n",
       "      <td>No</td>\n",
       "      <td>No</td>\n",
       "      <td>No</td>\n",
       "      <td>technical</td>\n",
       "      <td>low</td>\n",
       "    </tr>\n",
       "    <tr>\n",
       "      <th>526</th>\n",
       "      <td>Infosys</td>\n",
       "      <td>Medium</td>\n",
       "      <td>3</td>\n",
       "      <td>120</td>\n",
       "      <td>6</td>\n",
       "      <td>No</td>\n",
       "      <td>No</td>\n",
       "      <td>No</td>\n",
       "      <td>technical</td>\n",
       "      <td>low</td>\n",
       "    </tr>\n",
       "  </tbody>\n",
       "</table>\n",
       "<p>527 rows × 10 columns</p>\n",
       "</div>"
      ],
      "text/plain": [
       "        IT Company Satisfaction Level  Number Of Project  \\\n",
       "0          Infosys                Low                  2   \n",
       "1              HCL          Very High                  5   \n",
       "2    Tech Mahindra           Very Low                  7   \n",
       "3        Cognizant               High                  5   \n",
       "4            Wipro                Low                  2   \n",
       "..             ...                ...                ...   \n",
       "522      Accenture               High                  3   \n",
       "523            HCL          Very High                  3   \n",
       "524  Tech Mahindra               High                  3   \n",
       "525        Infosys               High                  3   \n",
       "526        Infosys             Medium                  3   \n",
       "\n",
       "     Average Monthly Hours  Time Spend Company  Work accident  Left   \\\n",
       "0                      157                    3             No   Yes   \n",
       "1                      262                    6             No   Yes   \n",
       "2                      272                    4             No   Yes   \n",
       "3                      223                    5             No   Yes   \n",
       "4                      159                    3             No   Yes   \n",
       "..                     ...                  ...            ...   ...   \n",
       "522                    231                    3             No    No   \n",
       "523                    259                    4             No    No   \n",
       "524                    238                    2             No    No   \n",
       "525                    210                    3             No    No   \n",
       "526                    120                    6             No    No   \n",
       "\n",
       "    Promotion Last Five years  Department  Salary  \n",
       "0                           No      sales     low  \n",
       "1                           No      sales  medium  \n",
       "2                           No      sales  medium  \n",
       "3                           No      sales     low  \n",
       "4                           No      sales     low  \n",
       "..                         ...        ...     ...  \n",
       "522                         No  technical     low  \n",
       "523                         No  technical     low  \n",
       "524                         No  technical     low  \n",
       "525                         No  technical     low  \n",
       "526                         No  technical     low  \n",
       "\n",
       "[527 rows x 10 columns]"
      ]
     },
     "execution_count": 6,
     "metadata": {},
     "output_type": "execute_result"
    }
   ],
   "source": [
    "raw_data"
   ]
  },
  {
   "cell_type": "markdown",
   "metadata": {},
   "source": [
    "### Lets Take Initial Review of Data"
   ]
  },
  {
   "cell_type": "code",
   "execution_count": 7,
   "metadata": {},
   "outputs": [
    {
     "data": {
      "text/plain": [
       "(527, 10)"
      ]
     },
     "execution_count": 7,
     "metadata": {},
     "output_type": "execute_result"
    }
   ],
   "source": [
    "raw_data.shape"
   ]
  },
  {
   "cell_type": "code",
   "execution_count": 8,
   "metadata": {},
   "outputs": [
    {
     "data": {
      "text/plain": [
       "IT Company                    6\n",
       "Satisfaction Level            0\n",
       "Number Of Project             0\n",
       "Average Monthly Hours         0\n",
       "Time Spend Company            0\n",
       "Work accident                 0\n",
       "Left                          0\n",
       "Promotion Last Five years     0\n",
       "Department                    0\n",
       "Salary                        0\n",
       "dtype: int64"
      ]
     },
     "execution_count": 8,
     "metadata": {},
     "output_type": "execute_result"
    }
   ],
   "source": [
    "raw_data.isnull().sum()"
   ]
  },
  {
   "cell_type": "code",
   "execution_count": 9,
   "metadata": {},
   "outputs": [
    {
     "name": "stdout",
     "output_type": "stream",
     "text": [
      "<class 'pandas.core.frame.DataFrame'>\n",
      "RangeIndex: 527 entries, 0 to 526\n",
      "Data columns (total 10 columns):\n",
      " #   Column                      Non-Null Count  Dtype \n",
      "---  ------                      --------------  ----- \n",
      " 0   IT Company                  521 non-null    object\n",
      " 1   Satisfaction Level          527 non-null    object\n",
      " 2   Number Of Project           527 non-null    int64 \n",
      " 3   Average Monthly Hours       527 non-null    int64 \n",
      " 4   Time Spend Company          527 non-null    int64 \n",
      " 5   Work accident               527 non-null    object\n",
      " 6   Left                        527 non-null    object\n",
      " 7   Promotion Last Five years   527 non-null    object\n",
      " 8   Department                  527 non-null    object\n",
      " 9   Salary                      527 non-null    object\n",
      "dtypes: int64(3), object(7)\n",
      "memory usage: 41.3+ KB\n"
     ]
    }
   ],
   "source": [
    "raw_data.info()"
   ]
  },
  {
   "cell_type": "markdown",
   "metadata": {},
   "source": [
    "#### Checking Duplicate"
   ]
  },
  {
   "cell_type": "code",
   "execution_count": 10,
   "metadata": {},
   "outputs": [
    {
     "data": {
      "text/plain": [
       "0"
      ]
     },
     "execution_count": 10,
     "metadata": {},
     "output_type": "execute_result"
    }
   ],
   "source": [
    "raw_data.duplicated().sum()"
   ]
  },
  {
   "cell_type": "code",
   "execution_count": 11,
   "metadata": {},
   "outputs": [
    {
     "data": {
      "text/plain": [
       "array(['sales', 'accounting', 'hr', 'technical', 'support', 'management',\n",
       "       'IT', 'product_mng', 'marketing', 'RandD'], dtype=object)"
      ]
     },
     "execution_count": 11,
     "metadata": {},
     "output_type": "execute_result"
    }
   ],
   "source": [
    "raw_data['Department'].unique()"
   ]
  },
  {
   "cell_type": "markdown",
   "metadata": {},
   "source": [
    "## EDA"
   ]
  },
  {
   "cell_type": "markdown",
   "metadata": {},
   "source": [
    "## Salary Count"
   ]
  },
  {
   "cell_type": "code",
   "execution_count": 12,
   "metadata": {},
   "outputs": [
    {
     "data": {
      "image/png": "[encoded data removed]",
      "text/plain": [
       "<Figure size 640x480 with 1 Axes>"
      ]
     },
     "metadata": {},
     "output_type": "display_data"
    },
    {
     "data": {
      "text/plain": [
       "low       336\n",
       "medium    180\n",
       "high       11\n",
       "Name: Salary, dtype: int64"
      ]
     },
     "execution_count": 12,
     "metadata": {},
     "output_type": "execute_result"
    }
   ],
   "source": [
    "sns.countplot(data=raw_data, x='Salary')\n",
    "plt.xlabel('Salary')\n",
    "plt.ylabel('Count')\n",
    "plt.show()\n",
    "\n",
    "\n",
    "count_values = raw_data['Salary'].value_counts()\n",
    "count_values"
   ]
  },
  {
   "cell_type": "markdown",
   "metadata": {},
   "source": [
    "##### Larger number of employees are **underpaid**"
   ]
  },
  {
   "cell_type": "code",
   "execution_count": 13,
   "metadata": {},
   "outputs": [
    {
     "data": {
      "image/png": "[encoded data removed]",
      "text/plain": [
       "<Figure size 640x480 with 1 Axes>"
      ]
     },
     "metadata": {},
     "output_type": "display_data"
    },
    {
     "data": {
      "text/plain": [
       "sales          146\n",
       "technical      110\n",
       "support         82\n",
       "IT              42\n",
       "product_mng     34\n",
       "hr              32\n",
       "accounting      29\n",
       "marketing       20\n",
       "RandD           20\n",
       "management      12\n",
       "Name: Department, dtype: int64"
      ]
     },
     "execution_count": 13,
     "metadata": {},
     "output_type": "execute_result"
    }
   ],
   "source": [
    "sns.countplot(data=raw_data, x='Department')\n",
    "plt.xlabel('Department')\n",
    "plt.ylabel('Count')\n",
    "plt.xticks(rotation=90)\n",
    "plt.show()\n",
    "\n",
    "count_values = raw_data['Department'].value_counts()\n",
    "count_values"
   ]
  },
  {
   "cell_type": "markdown",
   "metadata": {},
   "source": [
    "#### **Sales** has the highest number of employess!"
   ]
  },
  {
   "cell_type": "markdown",
   "metadata": {},
   "source": [
    "### Department VS Average monthly hour"
   ]
  },
  {
   "cell_type": "code",
   "execution_count": 14,
   "metadata": {},
   "outputs": [
    {
     "data": {
      "text/plain": [
       "Department\n",
       "IT             224.714286\n",
       "RandD          200.500000\n",
       "accounting     191.620690\n",
       "hr             198.125000\n",
       "management     202.500000\n",
       "marketing      203.800000\n",
       "product_mng    209.588235\n",
       "sales          205.000000\n",
       "support        193.902439\n",
       "technical      204.000000\n",
       "Name: Average Monthly Hours, dtype: float64"
      ]
     },
     "execution_count": 14,
     "metadata": {},
     "output_type": "execute_result"
    }
   ],
   "source": [
    "Working_hours_dep=raw_data.groupby('Department')['Average Monthly Hours'].mean()\n",
    "Working_hours_dep"
   ]
  },
  {
   "cell_type": "code",
   "execution_count": 15,
   "metadata": {},
   "outputs": [
    {
     "data": {
      "image/png": "[encoded data removed]",
      "text/plain": [
       "<Figure size 1400x800 with 1 Axes>"
      ]
     },
     "metadata": {},
     "output_type": "display_data"
    }
   ],
   "source": [
    "fig = plt.figure(figsize=(14,8))\n",
    "ax=sns.barplot(x=Working_hours_dep.index,y= Working_hours_dep)\n",
    "ax.set_xticklabels(Working_hours_dep.index,rotation=30,ha='right')\n",
    "plt.show()"
   ]
  },
  {
   "cell_type": "markdown",
   "metadata": {},
   "source": [
    "#### **IT** has a bit higher average monthly hours. Otherwise all the departments have almost same working hours."
   ]
  },
  {
   "cell_type": "markdown",
   "metadata": {},
   "source": [
    "## Average Monthly Hours count"
   ]
  },
  {
   "cell_type": "code",
   "execution_count": 16,
   "metadata": {},
   "outputs": [
    {
     "data": {
      "text/plain": [
       "Salary\n",
       "high      190.545455\n",
       "low       202.008929\n",
       "medium    207.088889\n",
       "Name: Average Monthly Hours, dtype: float64"
      ]
     },
     "execution_count": 16,
     "metadata": {},
     "output_type": "execute_result"
    }
   ],
   "source": [
    "Working_hours_sal=raw_data.groupby('Salary')['Average Monthly Hours'].mean()\n",
    "Working_hours_sal"
   ]
  },
  {
   "cell_type": "code",
   "execution_count": 17,
   "metadata": {},
   "outputs": [
    {
     "data": {
      "image/png": "[encoded data removed]",
      "text/plain": [
       "<Figure size 800x800 with 1 Axes>"
      ]
     },
     "metadata": {},
     "output_type": "display_data"
    }
   ],
   "source": [
    "fig = plt.figure(figsize=(8,8))\n",
    "ax=sns.barplot(x=Working_hours_sal.index,y= Working_hours_sal)\n",
    "ax.set_xticklabels(Working_hours_sal.index,rotation=30,ha='right')\n",
    "plt.show()"
   ]
  },
  {
   "cell_type": "markdown",
   "metadata": {},
   "source": [
    "#### The working hours for high, low and medium salary workers are the same !"
   ]
  },
  {
   "cell_type": "markdown",
   "metadata": {},
   "source": [
    "## Number of Employees  Left"
   ]
  },
  {
   "cell_type": "code",
   "execution_count": 18,
   "metadata": {},
   "outputs": [
    {
     "data": {
      "image/png": "[encoded data removed]",
      "text/plain": [
       "<Figure size 640x480 with 1 Axes>"
      ]
     },
     "metadata": {},
     "output_type": "display_data"
    },
    {
     "name": "stdout",
     "output_type": "stream",
     "text": [
      "Percentage of Current Employees is 47.1% and of Ex-employees is: 52.9%\n",
      "Yes: 279\n",
      "No: 248\n"
     ]
    }
   ],
   "source": [
    "#Visualize the number of employees that stayes and left  the company\n",
    "sns.countplot(data=raw_data, x='Left ')\n",
    "plt.xlabel('Left')\n",
    "plt.ylabel('Count')\n",
    "plt.title('Number of Employees by  Left')\n",
    "plt.show()\n",
    "\n",
    "#Attrition percentage\n",
    "print(\"Percentage of Current Employees is {:.1f}% and of Ex-employees is: {:.1f}%\".format(\n",
    "    raw_data[raw_data['Left '] == 'No'].shape[0] / raw_data.shape[0]*100,\n",
    "    raw_data[raw_data['Left '] == 'Yes'].shape[0] / raw_data.shape[0]*100))\n",
    "\n",
    "\n",
    "count_values = raw_data['Left '].value_counts()\n",
    "for index, value in count_values.items():\n",
    "    print(f\"{index}: {value}\")"
   ]
  },
  {
   "cell_type": "markdown",
   "metadata": {},
   "source": [
    "## Department VS Left"
   ]
  },
  {
   "cell_type": "code",
   "execution_count": 19,
   "metadata": {},
   "outputs": [
    {
     "data": {
      "image/png": "[encoded data removed]",
      "text/plain": [
       "<Figure size 640x480 with 1 Axes>"
      ]
     },
     "metadata": {},
     "output_type": "display_data"
    },
    {
     "name": "stdout",
     "output_type": "stream",
     "text": [
      "Left   Department \n",
      "No     sales          66\n",
      "       technical      52\n",
      "       support        36\n",
      "       IT             18\n",
      "       hr             16\n",
      "       RandD          15\n",
      "       accounting     15\n",
      "       marketing      12\n",
      "       product_mng    12\n",
      "       management      6\n",
      "Yes    sales          80\n",
      "       technical      58\n",
      "       support        46\n",
      "       IT             24\n",
      "       product_mng    22\n",
      "       hr             16\n",
      "       accounting     14\n",
      "       marketing       8\n",
      "       management      6\n",
      "       RandD           5\n",
      "Name: Department, dtype: int64\n"
     ]
    }
   ],
   "source": [
    "# Plotting Deparment and Attrition\n",
    "sns.countplot(x='Department', hue='Left ', data=raw_data)\n",
    "plt.title(\"Department VS Left\", fontsize=14)\n",
    "plt.xticks(rotation=90)\n",
    "plt.show()\n",
    "\n",
    "groupby_d = raw_data.groupby(\"Left \")[\"Department\"]\n",
    "print(groupby_d.value_counts())"
   ]
  },
  {
   "cell_type": "code",
   "execution_count": 20,
   "metadata": {},
   "outputs": [
    {
     "name": "stdout",
     "output_type": "stream",
     "text": [
      "Percentage of employees resigned/retired by Department:\n",
      "sales          28.673835\n",
      "technical      20.788530\n",
      "support        16.487455\n",
      "IT              8.602151\n",
      "product_mng     7.885305\n",
      "hr              5.734767\n",
      "accounting      5.017921\n",
      "marketing       2.867384\n",
      "management      2.150538\n",
      "RandD           1.792115\n",
      "Name: Department, dtype: float64\n"
     ]
    }
   ],
   "source": [
    "# Calculating percentage for each department\n",
    "total_resigned = raw_data['Left '].value_counts()['Yes']\n",
    "total_departments = raw_data['Department'].nunique()\n",
    "\n",
    "resigned_percentage_by_department = (raw_data[raw_data['Left '] == 'Yes']['Department'].value_counts() / total_resigned) * 100\n",
    "\n",
    "\n",
    "print(\"Percentage of employees resigned/retired by Department:\")\n",
    "print(resigned_percentage_by_department)\n"
   ]
  },
  {
   "cell_type": "markdown",
   "metadata": {},
   "source": [
    "# Plotting Job Satisfaction and Left count"
   ]
  },
  {
   "cell_type": "markdown",
   "metadata": {},
   "source": [
    "## Satisfaction vs Left"
   ]
  },
  {
   "cell_type": "code",
   "execution_count": 21,
   "metadata": {},
   "outputs": [
    {
     "data": {
      "image/png": "[encoded data removed]",
      "text/plain": [
       "<Figure size 640x480 with 1 Axes>"
      ]
     },
     "metadata": {},
     "output_type": "display_data"
    },
    {
     "name": "stdout",
     "output_type": "stream",
     "text": [
      "Left   Satisfaction Level\n",
      "No     Very High             77\n",
      "       High                  75\n",
      "       Medium                70\n",
      "       Very Low              15\n",
      "       Low                   11\n",
      "Yes    Very Low              76\n",
      "       Medium                68\n",
      "       Low                   54\n",
      "       Very High             51\n",
      "       High                  30\n",
      "Name: Satisfaction Level, dtype: int64\n"
     ]
    }
   ],
   "source": [
    "# Plotting Job Satisfaction and Left count\n",
    "sns.countplot(x='Satisfaction Level', hue='Left ', data=raw_data)\n",
    "plt.title(\"Satisfaction vs Left\", fontsize=14)\n",
    "plt.show()\n",
    "\n",
    "groupby_js = raw_data.groupby(\"Left \")[\"Satisfaction Level\"]\n",
    "print(groupby_js.value_counts())"
   ]
  },
  {
   "cell_type": "code",
   "execution_count": 22,
   "metadata": {},
   "outputs": [
    {
     "name": "stdout",
     "output_type": "stream",
     "text": [
      "Percentage of employees resigned/retired by Job Satisfaction:\n",
      "Very Low     27.240143\n",
      "Medium       24.372760\n",
      "Low          19.354839\n",
      "Very High    18.279570\n",
      "High         10.752688\n",
      "Name: Satisfaction Level, dtype: float64\n"
     ]
    }
   ],
   "source": [
    "# Calculating percentage for each job satisfaction level\n",
    "total_resigned = raw_data['Left '].value_counts()['Yes']\n",
    "\n",
    "resigned_percentage_by_job_satisfaction = (raw_data[raw_data['Left '] == 'Yes']['Satisfaction Level'].value_counts() / total_resigned) * 100\n",
    "\n",
    "print(\"Percentage of employees resigned/retired by Job Satisfaction:\")\n",
    "print(resigned_percentage_by_job_satisfaction)"
   ]
  },
  {
   "cell_type": "code",
   "execution_count": 23,
   "metadata": {},
   "outputs": [
    {
     "data": {
      "image/png": "[encoded data removed]",
      "text/plain": [
       "<Figure size 640x480 with 1 Axes>"
      ]
     },
     "metadata": {},
     "output_type": "display_data"
    },
    {
     "name": "stdout",
     "output_type": "stream",
     "text": [
      "Left   Number Of Project\n",
      "No     4                     88\n",
      "       3                     81\n",
      "       5                     52\n",
      "       2                     16\n",
      "       6                     11\n",
      "Yes    2                    117\n",
      "       6                     54\n",
      "       5                     44\n",
      "       4                     39\n",
      "       7                     18\n",
      "       3                      7\n",
      "Name: Number Of Project, dtype: int64\n"
     ]
    }
   ],
   "source": [
    "# Plotting Job Satisfaction and Left count\n",
    "sns.countplot(x='Number Of Project', hue='Left ', data=raw_data)\n",
    "plt.title(\"Number Of Project vs Left\", fontsize=14)\n",
    "plt.show()\n",
    "\n",
    "groupby_js = raw_data.groupby(\"Left \")[\"Number Of Project\"]\n",
    "print(groupby_js.value_counts())"
   ]
  },
  {
   "cell_type": "code",
   "execution_count": 24,
   "metadata": {},
   "outputs": [
    {
     "name": "stdout",
     "output_type": "stream",
     "text": [
      "Percentage of employees resigned/retired by Number Of Project:\n",
      "2    41.935484\n",
      "6    19.354839\n",
      "5    15.770609\n",
      "4    13.978495\n",
      "7     6.451613\n",
      "3     2.508961\n",
      "Name: Number Of Project, dtype: float64\n"
     ]
    }
   ],
   "source": [
    "# Calculating percentage for each Number Of Project\n",
    "total_resigned = raw_data['Left '].value_counts()['Yes']\n",
    "\n",
    "resigned_percentage_by_NOP = (raw_data[raw_data['Left '] == 'Yes']['Number Of Project'].value_counts() / total_resigned) * 100\n",
    "\n",
    "print(\"Percentage of employees resigned/retired by Number Of Project:\")\n",
    "print(resigned_percentage_by_NOP)"
   ]
  },
  {
   "cell_type": "code",
   "execution_count": 25,
   "metadata": {},
   "outputs": [
    {
     "ename": "ModuleNotFoundError",
     "evalue": "No module named 'pandas_profiling'",
     "output_type": "error",
     "traceback": [
      "\u001b[0;31m---------------------------------------------------------------------------\u001b[0m",
      "\u001b[0;31mModuleNotFoundError\u001b[0m                       Traceback (most recent call last)",
      "\u001b[1;32m/workspaces/codespaces-jupyter/Machine Learning Project/Employee_retention_prediction.ipynb Cell 42\u001b[0m line \u001b[0;36m1\n\u001b[0;32m----> <a href='vscode-notebook-cell://codespaces%2Bsymmetrical-parakeet-pv69r74gwp7f99qj/workspaces/codespaces-jupyter/Machine%20Learning%20Project/Employee_retention_prediction.ipynb#X56sdnNjb2RlLXJlbW90ZQ%3D%3D?line=0'>1</a>\u001b[0m \u001b[39mfrom\u001b[39;00m \u001b[39mpandas_profiling\u001b[39;00m \u001b[39mimport\u001b[39;00m ProfileReport\n\u001b[1;32m      <a href='vscode-notebook-cell://codespaces%2Bsymmetrical-parakeet-pv69r74gwp7f99qj/workspaces/codespaces-jupyter/Machine%20Learning%20Project/Employee_retention_prediction.ipynb#X56sdnNjb2RlLXJlbW90ZQ%3D%3D?line=2'>3</a>\u001b[0m prof \u001b[39m=\u001b[39m ProfileReport(raw_data)\n\u001b[1;32m      <a href='vscode-notebook-cell://codespaces%2Bsymmetrical-parakeet-pv69r74gwp7f99qj/workspaces/codespaces-jupyter/Machine%20Learning%20Project/Employee_retention_prediction.ipynb#X56sdnNjb2RlLXJlbW90ZQ%3D%3D?line=4'>5</a>\u001b[0m prof\u001b[39m.\u001b[39mto_file(output_file \u001b[39m=\u001b[39m \u001b[39m'\u001b[39m\u001b[39mreport.html\u001b[39m\u001b[39m'\u001b[39m)\n",
      "\u001b[0;31mModuleNotFoundError\u001b[0m: No module named 'pandas_profiling'"
     ]
    }
   ],
   "source": [
    "from pandas_profiling import ProfileReport\n",
    "\n",
    "prof = ProfileReport(raw_data)\n",
    "\n",
    "prof.to_file(output_file = 'report.html')"
   ]
  },
  {
   "cell_type": "markdown",
   "metadata": {},
   "source": [
    "# Checking Correlation B/w Input & Target Variable"
   ]
  },
  {
   "cell_type": "code",
   "execution_count": 26,
   "metadata": {},
   "outputs": [
    {
     "ename": "KeyError",
     "evalue": "'Work accident'",
     "output_type": "error",
     "traceback": [
      "\u001b[0;31m---------------------------------------------------------------------------\u001b[0m",
      "\u001b[0;31mKeyError\u001b[0m                                  Traceback (most recent call last)",
      "File \u001b[0;32m~/.python/current/lib/python3.10/site-packages/pandas/core/indexes/base.py:3802\u001b[0m, in \u001b[0;36mIndex.get_loc\u001b[0;34m(self, key, method, tolerance)\u001b[0m\n\u001b[1;32m   3801\u001b[0m \u001b[39mtry\u001b[39;00m:\n\u001b[0;32m-> 3802\u001b[0m     \u001b[39mreturn\u001b[39;00m \u001b[39mself\u001b[39;49m\u001b[39m.\u001b[39;49m_engine\u001b[39m.\u001b[39;49mget_loc(casted_key)\n\u001b[1;32m   3803\u001b[0m \u001b[39mexcept\u001b[39;00m \u001b[39mKeyError\u001b[39;00m \u001b[39mas\u001b[39;00m err:\n",
      "File \u001b[0;32m~/.python/current/lib/python3.10/site-packages/pandas/_libs/index.pyx:138\u001b[0m, in \u001b[0;36mpandas._libs.index.IndexEngine.get_loc\u001b[0;34m()\u001b[0m\n",
      "File \u001b[0;32m~/.python/current/lib/python3.10/site-packages/pandas/_libs/index.pyx:165\u001b[0m, in \u001b[0;36mpandas._libs.index.IndexEngine.get_loc\u001b[0;34m()\u001b[0m\n",
      "File \u001b[0;32mpandas/_libs/hashtable_class_helper.pxi:5745\u001b[0m, in \u001b[0;36mpandas._libs.hashtable.PyObjectHashTable.get_item\u001b[0;34m()\u001b[0m\n",
      "File \u001b[0;32mpandas/_libs/hashtable_class_helper.pxi:5753\u001b[0m, in \u001b[0;36mpandas._libs.hashtable.PyObjectHashTable.get_item\u001b[0;34m()\u001b[0m\n",
      "\u001b[0;31mKeyError\u001b[0m: 'Work accident'",
      "\nThe above exception was the direct cause of the following exception:\n",
      "\u001b[0;31mKeyError\u001b[0m                                  Traceback (most recent call last)",
      "\u001b[1;32m/workspaces/codespaces-jupyter/Machine Learning Project/Employee_retention_prediction.ipynb Cell 44\u001b[0m line \u001b[0;36m1\n\u001b[1;32m     <a href='vscode-notebook-cell://codespaces%2Bsymmetrical-parakeet-pv69r74gwp7f99qj/workspaces/codespaces-jupyter/Machine%20Learning%20Project/Employee_retention_prediction.ipynb#X61sdnNjb2RlLXJlbW90ZQ%3D%3D?line=12'>13</a>\u001b[0m label_encoder \u001b[39m=\u001b[39m LabelEncoder()\n\u001b[1;32m     <a href='vscode-notebook-cell://codespaces%2Bsymmetrical-parakeet-pv69r74gwp7f99qj/workspaces/codespaces-jupyter/Machine%20Learning%20Project/Employee_retention_prediction.ipynb#X61sdnNjb2RlLXJlbW90ZQ%3D%3D?line=13'>14</a>\u001b[0m \u001b[39mfor\u001b[39;00m column \u001b[39min\u001b[39;00m categorical_columns:\n\u001b[0;32m---> <a href='vscode-notebook-cell://codespaces%2Bsymmetrical-parakeet-pv69r74gwp7f99qj/workspaces/codespaces-jupyter/Machine%20Learning%20Project/Employee_retention_prediction.ipynb#X61sdnNjb2RlLXJlbW90ZQ%3D%3D?line=14'>15</a>\u001b[0m     data[column] \u001b[39m=\u001b[39m label_encoder\u001b[39m.\u001b[39mfit_transform(data[column])\n\u001b[1;32m     <a href='vscode-notebook-cell://codespaces%2Bsymmetrical-parakeet-pv69r74gwp7f99qj/workspaces/codespaces-jupyter/Machine%20Learning%20Project/Employee_retention_prediction.ipynb#X61sdnNjb2RlLXJlbW90ZQ%3D%3D?line=16'>17</a>\u001b[0m \u001b[39m# Calculate the correlation matrix\u001b[39;00m\n\u001b[1;32m     <a href='vscode-notebook-cell://codespaces%2Bsymmetrical-parakeet-pv69r74gwp7f99qj/workspaces/codespaces-jupyter/Machine%20Learning%20Project/Employee_retention_prediction.ipynb#X61sdnNjb2RlLXJlbW90ZQ%3D%3D?line=17'>18</a>\u001b[0m correlation_matrix \u001b[39m=\u001b[39m data\u001b[39m.\u001b[39mcorr()\n",
      "File \u001b[0;32m~/.python/current/lib/python3.10/site-packages/pandas/core/frame.py:3807\u001b[0m, in \u001b[0;36mDataFrame.__getitem__\u001b[0;34m(self, key)\u001b[0m\n\u001b[1;32m   3805\u001b[0m \u001b[39mif\u001b[39;00m \u001b[39mself\u001b[39m\u001b[39m.\u001b[39mcolumns\u001b[39m.\u001b[39mnlevels \u001b[39m>\u001b[39m \u001b[39m1\u001b[39m:\n\u001b[1;32m   3806\u001b[0m     \u001b[39mreturn\u001b[39;00m \u001b[39mself\u001b[39m\u001b[39m.\u001b[39m_getitem_multilevel(key)\n\u001b[0;32m-> 3807\u001b[0m indexer \u001b[39m=\u001b[39m \u001b[39mself\u001b[39;49m\u001b[39m.\u001b[39;49mcolumns\u001b[39m.\u001b[39;49mget_loc(key)\n\u001b[1;32m   3808\u001b[0m \u001b[39mif\u001b[39;00m is_integer(indexer):\n\u001b[1;32m   3809\u001b[0m     indexer \u001b[39m=\u001b[39m [indexer]\n",
      "File \u001b[0;32m~/.python/current/lib/python3.10/site-packages/pandas/core/indexes/base.py:3804\u001b[0m, in \u001b[0;36mIndex.get_loc\u001b[0;34m(self, key, method, tolerance)\u001b[0m\n\u001b[1;32m   3802\u001b[0m     \u001b[39mreturn\u001b[39;00m \u001b[39mself\u001b[39m\u001b[39m.\u001b[39m_engine\u001b[39m.\u001b[39mget_loc(casted_key)\n\u001b[1;32m   3803\u001b[0m \u001b[39mexcept\u001b[39;00m \u001b[39mKeyError\u001b[39;00m \u001b[39mas\u001b[39;00m err:\n\u001b[0;32m-> 3804\u001b[0m     \u001b[39mraise\u001b[39;00m \u001b[39mKeyError\u001b[39;00m(key) \u001b[39mfrom\u001b[39;00m \u001b[39merr\u001b[39;00m\n\u001b[1;32m   3805\u001b[0m \u001b[39mexcept\u001b[39;00m \u001b[39mTypeError\u001b[39;00m:\n\u001b[1;32m   3806\u001b[0m     \u001b[39m# If we have a listlike key, _check_indexing_error will raise\u001b[39;00m\n\u001b[1;32m   3807\u001b[0m     \u001b[39m#  InvalidIndexError. Otherwise we fall through and re-raise\u001b[39;00m\n\u001b[1;32m   3808\u001b[0m     \u001b[39m#  the TypeError.\u001b[39;00m\n\u001b[1;32m   3809\u001b[0m     \u001b[39mself\u001b[39m\u001b[39m.\u001b[39m_check_indexing_error(key)\n",
      "\u001b[0;31mKeyError\u001b[0m: 'Work accident'"
     ]
    }
   ],
   "source": [
    "import pandas as pd\n",
    "import seaborn as sns\n",
    "import matplotlib.pyplot as plt\n",
    "from sklearn.preprocessing import LabelEncoder\n",
    "\n",
    "# Select the categorical columns\n",
    "categorical_columns = ['Satisfaction Level', 'Work accident', 'Left ', 'Promotion Last Five years ', 'Department', 'Salary']\n",
    "\n",
    "# Create a copy of the DataFrame to work with\n",
    "data = raw_data.copy()\n",
    "\n",
    "# Encode the categorical columns using label encoding\n",
    "label_encoder = LabelEncoder()\n",
    "for column in categorical_columns:\n",
    "    data[column] = label_encoder.fit_transform(data[column])\n",
    "\n",
    "# Calculate the correlation matrix\n",
    "correlation_matrix = data.corr()\n",
    "\n",
    "# Create a heatmap using the correlation matrix\n",
    "plt.figure(figsize=(10, 8))\n",
    "sns.heatmap(correlation_matrix, annot=True, cmap='coolwarm')\n",
    "\n",
    "# Show the plot\n",
    "plt.title('Correlation Matrix')\n",
    "plt.show()\n"
   ]
  },
  {
   "cell_type": "code",
   "execution_count": 27,
   "metadata": {},
   "outputs": [
    {
     "ename": "NameError",
     "evalue": "name 'correlation_matrix' is not defined",
     "output_type": "error",
     "traceback": [
      "\u001b[0;31m---------------------------------------------------------------------------\u001b[0m",
      "\u001b[0;31mNameError\u001b[0m                                 Traceback (most recent call last)",
      "\u001b[1;32m/workspaces/codespaces-jupyter/Machine Learning Project/Employee_retention_prediction.ipynb Cell 45\u001b[0m line \u001b[0;36m2\n\u001b[1;32m      <a href='vscode-notebook-cell://codespaces%2Bsymmetrical-parakeet-pv69r74gwp7f99qj/workspaces/codespaces-jupyter/Machine%20Learning%20Project/Employee_retention_prediction.ipynb#X62sdnNjb2RlLXJlbW90ZQ%3D%3D?line=0'>1</a>\u001b[0m \u001b[39m# Calculate the correlation of 'Left' with other attributes\u001b[39;00m\n\u001b[0;32m----> <a href='vscode-notebook-cell://codespaces%2Bsymmetrical-parakeet-pv69r74gwp7f99qj/workspaces/codespaces-jupyter/Machine%20Learning%20Project/Employee_retention_prediction.ipynb#X62sdnNjb2RlLXJlbW90ZQ%3D%3D?line=1'>2</a>\u001b[0m left_corr \u001b[39m=\u001b[39m correlation_matrix[\u001b[39m'\u001b[39m\u001b[39mLeft \u001b[39m\u001b[39m'\u001b[39m]\n\u001b[1;32m      <a href='vscode-notebook-cell://codespaces%2Bsymmetrical-parakeet-pv69r74gwp7f99qj/workspaces/codespaces-jupyter/Machine%20Learning%20Project/Employee_retention_prediction.ipynb#X62sdnNjb2RlLXJlbW90ZQ%3D%3D?line=3'>4</a>\u001b[0m \u001b[39m# Remove 'Left' from the correlation series\u001b[39;00m\n\u001b[1;32m      <a href='vscode-notebook-cell://codespaces%2Bsymmetrical-parakeet-pv69r74gwp7f99qj/workspaces/codespaces-jupyter/Machine%20Learning%20Project/Employee_retention_prediction.ipynb#X62sdnNjb2RlLXJlbW90ZQ%3D%3D?line=4'>5</a>\u001b[0m left_corr \u001b[39m=\u001b[39m left_corr\u001b[39m.\u001b[39mdrop(\u001b[39m'\u001b[39m\u001b[39mLeft \u001b[39m\u001b[39m'\u001b[39m)\n",
      "\u001b[0;31mNameError\u001b[0m: name 'correlation_matrix' is not defined"
     ]
    }
   ],
   "source": [
    "# Calculate the correlation of 'Left' with other attributes\n",
    "left_corr = correlation_matrix['Left ']\n",
    "\n",
    "# Remove 'Left' from the correlation series\n",
    "left_corr = left_corr.drop('Left ')\n",
    "\n",
    "# Sort the correlation series in descending order\n",
    "sorted_corr = left_corr.abs().sort_values(ascending=False)\n",
    "\n",
    "# Get the top 3 highly correlated attributes with 'Left'\n",
    "top_pos_corr = sorted_corr.head(3)\n",
    "top_neg_corr = sorted_corr.tail(3)\n",
    "\n",
    "# Print the top 3 highly correlated attributes with 'Left'\n",
    "print(\"Top 3 highly correlated attributes with 'Left':\")\n",
    "for attribute, correlation in top_pos_corr.items():\n",
    "    print(f\"{attribute}: {correlation}\")\n",
    "\n",
    "# Print the top 3 negatively correlated attributes with 'Left'\n",
    "print(\"\\nTop 3 negatively correlated attributes with 'Left':\")\n",
    "for attribute, correlation in top_neg_corr.items():\n",
    "    print(f\"{attribute}: {correlation}\")\n"
   ]
  }
 ],
 "metadata": {
  "kernelspec": {
   "display_name": "Python 3",
   "language": "python",
   "name": "python3"
  },
  "language_info": {
   "codemirror_mode": {
    "name": "ipython",
    "version": 3
   },
   "file_extension": ".py",
   "mimetype": "text/x-python",
   "name": "python",
   "nbconvert_exporter": "python",
   "pygments_lexer": "ipython3",
   "version": "3.10.8"
  },
  "orig_nbformat": 4
 },
 "nbformat": 4,
 "nbformat_minor": 2
}
